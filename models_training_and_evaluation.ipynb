{
 "cells": [
  {
   "cell_type": "code",
   "execution_count": 1,
   "id": "353534b2-e70c-4991-b221-bb75e6fd71ee",
   "metadata": {},
   "outputs": [],
   "source": [
    "import pandas as pd\n",
    "import numpy as np\n",
    "from src.eda import add_engineered_features\n",
    "from src.model_training import (preprocess_booking_data, split_data_train_val_test,\n",
    "evaluate_model_with_threshold, evaluate_model, train_model)\n",
    "from sklearn.tree import DecisionTreeClassifier\n",
    "from sklearn.ensemble import RandomForestClassifier, GradientBoostingClassifier\n",
    "from sklearn.metrics import precision_score, recall_score, f1_score, accuracy_score"
   ]
  },
  {
   "cell_type": "code",
   "execution_count": 2,
   "id": "22b5009f-e30a-4e35-9bb6-0881628a8cc6",
   "metadata": {},
   "outputs": [],
   "source": [
    "def evaluate_model_metrics(y, y_pred):\n",
    "    metrics = {\n",
    "            \"precision\": precision_score(y, y_pred, zero_division=0),\n",
    "            \"recall\": recall_score(y, y_pred, zero_division=0),\n",
    "            \"f1_score\": f1_score(y, y_pred, zero_division=0),\n",
    "            \"accuracy\": accuracy_score(y, y_pred)\n",
    "        }\n",
    "    return metrics"
   ]
  },
  {
   "cell_type": "code",
   "execution_count": 3,
   "id": "fc2f1e9f-c783-429f-a30b-a567d1d69ed3",
   "metadata": {},
   "outputs": [],
   "source": [
    "# Fix random seed for reproducibility\n",
    "RANDOM_SEED = 101\n",
    "np.random.seed(RANDOM_SEED)"
   ]
  },
  {
   "cell_type": "code",
   "execution_count": 4,
   "id": "6abacf61-a4c9-41e4-9b2e-a1b73eb329b2",
   "metadata": {},
   "outputs": [],
   "source": [
    "original_df = pd.read_csv(\"data/dataset.csv\")\n",
    "engineered_df = add_engineered_features(original_df)\n",
    "processed_df, features_dict = preprocess_booking_data(engineered_df)\n",
    "features_names = processed_df.columns.values[:-1].tolist()"
   ]
  },
  {
   "cell_type": "code",
   "execution_count": 5,
   "id": "b456b159-3216-4dad-8e8f-58749539cf8d",
   "metadata": {},
   "outputs": [],
   "source": [
    "# Split the data with stratisfy (all ys will have 7:3 ratio to represent the original data.)\n",
    "X_train, X_val, X_test, y_train, y_val, y_test = split_data_train_val_test(processed_df, random_state=RANDOM_SEED)"
   ]
  },
  {
   "cell_type": "code",
   "execution_count": 6,
   "id": "c08c1a6c-734c-4e73-966b-8836f9b1f506",
   "metadata": {},
   "outputs": [],
   "source": [
    "models_training_results = []"
   ]
  },
  {
   "cell_type": "code",
   "execution_count": 7,
   "id": "692005a8-5999-4aeb-8ca0-e7bf1c07bca9",
   "metadata": {},
   "outputs": [],
   "source": [
    "default_models = {\n",
    "    \"decision_tree_default\":  DecisionTreeClassifier(),\n",
    "    \"random_forest_default\": RandomForestClassifier(),\n",
    "    \"gdbt_default\": GradientBoostingClassifier(),\n",
    "}\n",
    "\n",
    "for model_name, clf in default_models.items():\n",
    "    _, train_metrics, val_metrics = train_model(clf, X_train, y_train, X_val, y_val)\n",
    "    train_metrics[\"model_name\"] = model_name\n",
    "    train_metrics[\"split\"] = \"training\"\n",
    "    \n",
    "    val_metrics[\"model_name\"] = model_name\n",
    "    val_metrics[\"split\"] = \"validation\"\n",
    "    \n",
    "    models_training_results.extend([val_metrics, train_metrics])"
   ]
  },
  {
   "cell_type": "code",
   "execution_count": 8,
   "id": "ff83dda4-2868-4227-9ed7-29ee7f8c80c2",
   "metadata": {},
   "outputs": [],
   "source": [
    "always_ones_train = evaluate_model_metrics(y_train, np.ones_like(y_train))\n",
    "always_ones_train[\"model_name\"] = \"always_ones\"\n",
    "always_ones_train[\"split\"] = \"training\"\n",
    "\n",
    "always_zeros_train = evaluate_model_metrics(y_train, np.zeros_like(y_train))\n",
    "always_zeros_train[\"model_name\"] = \"always_zeros\"\n",
    "always_zeros_train[\"split\"] = \"training\"\n",
    "\n",
    "always_ones_val = evaluate_model_metrics(y_val, np.ones_like(y_val))\n",
    "always_ones_val[\"model_name\"] = \"always_ones\"\n",
    "always_ones_val[\"split\"] = \"validation\"\n",
    "\n",
    "always_zeros_val = evaluate_model_metrics(y_val, np.zeros_like(y_val))\n",
    "always_zeros_val[\"model_name\"] = \"always_zeros\"\n",
    "always_zeros_val[\"split\"] = \"validation\""
   ]
  },
  {
   "cell_type": "code",
   "execution_count": 9,
   "id": "33b1d6ff-65ac-441d-b9ed-c289db9dbae3",
   "metadata": {},
   "outputs": [],
   "source": [
    "models_training_results.extend([always_ones_train, always_zeros_train,\n",
    "                                always_ones_val, always_zeros_val])"
   ]
  },
  {
   "cell_type": "code",
   "execution_count": 10,
   "id": "687d4699-fa79-4501-adb6-eafa11713974",
   "metadata": {},
   "outputs": [],
   "source": [
    "fine_tuned_models = {\n",
    "    \"decision_tree_pruned\":  DecisionTreeClassifier(**{'ccp_alpha': 0,\n",
    " 'max_depth': 15,\n",
    " 'max_features': 'sqrt',\n",
    " 'min_samples_leaf': 1,\n",
    " 'min_samples_split': 5}),\n",
    "    \"random_forest_pruned\": RandomForestClassifier(**{'bootstrap': True, 'max_depth': 15, 'max_features': 'sqrt', 'min_samples_leaf': 1, 'min_samples_split': 2, 'n_estimators': 500}),\n",
    "    \"decision_tree_pruned_ccp\":  DecisionTreeClassifier(ccp_alpha=0.015)\n",
    "}\n",
    "\n",
    "for model_name, clf in fine_tuned_models.items():\n",
    "    _, train_metrics, val_metrics = train_model(clf, X_train, y_train, X_val, y_val)\n",
    "    train_metrics[\"model_name\"] = model_name\n",
    "    train_metrics[\"split\"] = \"training\"\n",
    "    \n",
    "    val_metrics[\"model_name\"] = model_name\n",
    "    val_metrics[\"split\"] = \"validation\"\n",
    "    \n",
    "    models_training_results.extend([val_metrics, train_metrics])"
   ]
  },
  {
   "cell_type": "code",
   "execution_count": 11,
   "id": "602f829e-3076-44ab-b7a1-a2b9ada9eaaf",
   "metadata": {},
   "outputs": [],
   "source": [
    "dd = pd.DataFrame(models_training_results).sort_values(by=[\"model_name\", \"split\"])"
   ]
  },
  {
   "cell_type": "code",
   "execution_count": 19,
   "id": "b8e41d87-96cc-4d99-a3e7-89125de158bb",
   "metadata": {},
   "outputs": [
    {
     "data": {
      "text/html": [
       "<div>\n",
       "<style scoped>\n",
       "    .dataframe tbody tr th:only-of-type {\n",
       "        vertical-align: middle;\n",
       "    }\n",
       "\n",
       "    .dataframe tbody tr th {\n",
       "        vertical-align: top;\n",
       "    }\n",
       "\n",
       "    .dataframe thead th {\n",
       "        text-align: right;\n",
       "    }\n",
       "</style>\n",
       "<table border=\"1\" class=\"dataframe\">\n",
       "  <thead>\n",
       "    <tr style=\"text-align: right;\">\n",
       "      <th></th>\n",
       "      <th>precision</th>\n",
       "      <th>recall</th>\n",
       "      <th>f1_score</th>\n",
       "      <th>accuracy</th>\n",
       "      <th>model_name</th>\n",
       "      <th>split</th>\n",
       "    </tr>\n",
       "  </thead>\n",
       "  <tbody>\n",
       "    <tr>\n",
       "      <th>3</th>\n",
       "      <td>0.979035</td>\n",
       "      <td>0.966314</td>\n",
       "      <td>0.972633</td>\n",
       "      <td>0.982182</td>\n",
       "      <td>random_forest_default</td>\n",
       "      <td>training</td>\n",
       "    </tr>\n",
       "    <tr>\n",
       "      <th>1</th>\n",
       "      <td>0.985665</td>\n",
       "      <td>0.959577</td>\n",
       "      <td>0.972446</td>\n",
       "      <td>0.982182</td>\n",
       "      <td>decision_tree_default</td>\n",
       "      <td>training</td>\n",
       "    </tr>\n",
       "    <tr>\n",
       "      <th>13</th>\n",
       "      <td>0.935714</td>\n",
       "      <td>0.882579</td>\n",
       "      <td>0.908370</td>\n",
       "      <td>0.941659</td>\n",
       "      <td>random_forest_pruned</td>\n",
       "      <td>training</td>\n",
       "    </tr>\n",
       "    <tr>\n",
       "      <th>11</th>\n",
       "      <td>0.836099</td>\n",
       "      <td>0.800289</td>\n",
       "      <td>0.817802</td>\n",
       "      <td>0.883160</td>\n",
       "      <td>decision_tree_pruned</td>\n",
       "      <td>training</td>\n",
       "    </tr>\n",
       "    <tr>\n",
       "      <th>5</th>\n",
       "      <td>0.778307</td>\n",
       "      <td>0.707892</td>\n",
       "      <td>0.741431</td>\n",
       "      <td>0.838221</td>\n",
       "      <td>gdbt_default</td>\n",
       "      <td>training</td>\n",
       "    </tr>\n",
       "    <tr>\n",
       "      <th>15</th>\n",
       "      <td>0.621685</td>\n",
       "      <td>0.767084</td>\n",
       "      <td>0.686773</td>\n",
       "      <td>0.770735</td>\n",
       "      <td>decision_tree_pruned_ccp</td>\n",
       "      <td>training</td>\n",
       "    </tr>\n",
       "    <tr>\n",
       "      <th>6</th>\n",
       "      <td>0.327657</td>\n",
       "      <td>1.000000</td>\n",
       "      <td>0.493587</td>\n",
       "      <td>0.327657</td>\n",
       "      <td>always_ones</td>\n",
       "      <td>training</td>\n",
       "    </tr>\n",
       "    <tr>\n",
       "      <th>7</th>\n",
       "      <td>0.000000</td>\n",
       "      <td>0.000000</td>\n",
       "      <td>0.000000</td>\n",
       "      <td>0.672343</td>\n",
       "      <td>always_zeros</td>\n",
       "      <td>training</td>\n",
       "    </tr>\n",
       "  </tbody>\n",
       "</table>\n",
       "</div>"
      ],
      "text/plain": [
       "    precision    recall  f1_score  accuracy                model_name  \\\n",
       "3    0.979035  0.966314  0.972633  0.982182     random_forest_default   \n",
       "1    0.985665  0.959577  0.972446  0.982182     decision_tree_default   \n",
       "13   0.935714  0.882579  0.908370  0.941659      random_forest_pruned   \n",
       "11   0.836099  0.800289  0.817802  0.883160      decision_tree_pruned   \n",
       "5    0.778307  0.707892  0.741431  0.838221              gdbt_default   \n",
       "15   0.621685  0.767084  0.686773  0.770735  decision_tree_pruned_ccp   \n",
       "6    0.327657  1.000000  0.493587  0.327657               always_ones   \n",
       "7    0.000000  0.000000  0.000000  0.672343              always_zeros   \n",
       "\n",
       "       split  \n",
       "3   training  \n",
       "1   training  \n",
       "13  training  \n",
       "11  training  \n",
       "5   training  \n",
       "15  training  \n",
       "6   training  \n",
       "7   training  "
      ]
     },
     "execution_count": 19,
     "metadata": {},
     "output_type": "execute_result"
    }
   ],
   "source": [
    "dd[dd.split==\"training\"].sort_values(by=\"f1_score\", ascending=False)"
   ]
  },
  {
   "cell_type": "code",
   "execution_count": 20,
   "id": "feb98c8c-5f16-4c5e-ad02-93e0e49d699a",
   "metadata": {},
   "outputs": [
    {
     "data": {
      "text/html": [
       "<div>\n",
       "<style scoped>\n",
       "    .dataframe tbody tr th:only-of-type {\n",
       "        vertical-align: middle;\n",
       "    }\n",
       "\n",
       "    .dataframe tbody tr th {\n",
       "        vertical-align: top;\n",
       "    }\n",
       "\n",
       "    .dataframe thead th {\n",
       "        text-align: right;\n",
       "    }\n",
       "</style>\n",
       "<table border=\"1\" class=\"dataframe\">\n",
       "  <thead>\n",
       "    <tr style=\"text-align: right;\">\n",
       "      <th></th>\n",
       "      <th>precision</th>\n",
       "      <th>recall</th>\n",
       "      <th>f1_score</th>\n",
       "      <th>accuracy</th>\n",
       "      <th>model_name</th>\n",
       "      <th>split</th>\n",
       "    </tr>\n",
       "  </thead>\n",
       "  <tbody>\n",
       "    <tr>\n",
       "      <th>12</th>\n",
       "      <td>0.796491</td>\n",
       "      <td>0.764310</td>\n",
       "      <td>0.780069</td>\n",
       "      <td>0.858720</td>\n",
       "      <td>random_forest_pruned</td>\n",
       "      <td>validation</td>\n",
       "    </tr>\n",
       "    <tr>\n",
       "      <th>4</th>\n",
       "      <td>0.750000</td>\n",
       "      <td>0.737374</td>\n",
       "      <td>0.743633</td>\n",
       "      <td>0.833333</td>\n",
       "      <td>gdbt_default</td>\n",
       "      <td>validation</td>\n",
       "    </tr>\n",
       "    <tr>\n",
       "      <th>10</th>\n",
       "      <td>0.749141</td>\n",
       "      <td>0.734007</td>\n",
       "      <td>0.741497</td>\n",
       "      <td>0.832230</td>\n",
       "      <td>decision_tree_pruned</td>\n",
       "      <td>validation</td>\n",
       "    </tr>\n",
       "    <tr>\n",
       "      <th>2</th>\n",
       "      <td>0.747368</td>\n",
       "      <td>0.717172</td>\n",
       "      <td>0.731959</td>\n",
       "      <td>0.827815</td>\n",
       "      <td>random_forest_default</td>\n",
       "      <td>validation</td>\n",
       "    </tr>\n",
       "    <tr>\n",
       "      <th>0</th>\n",
       "      <td>0.665672</td>\n",
       "      <td>0.750842</td>\n",
       "      <td>0.705696</td>\n",
       "      <td>0.794702</td>\n",
       "      <td>decision_tree_default</td>\n",
       "      <td>validation</td>\n",
       "    </tr>\n",
       "    <tr>\n",
       "      <th>14</th>\n",
       "      <td>0.618421</td>\n",
       "      <td>0.791246</td>\n",
       "      <td>0.694239</td>\n",
       "      <td>0.771523</td>\n",
       "      <td>decision_tree_pruned_ccp</td>\n",
       "      <td>validation</td>\n",
       "    </tr>\n",
       "    <tr>\n",
       "      <th>8</th>\n",
       "      <td>0.327815</td>\n",
       "      <td>1.000000</td>\n",
       "      <td>0.493766</td>\n",
       "      <td>0.327815</td>\n",
       "      <td>always_ones</td>\n",
       "      <td>validation</td>\n",
       "    </tr>\n",
       "    <tr>\n",
       "      <th>9</th>\n",
       "      <td>0.000000</td>\n",
       "      <td>0.000000</td>\n",
       "      <td>0.000000</td>\n",
       "      <td>0.672185</td>\n",
       "      <td>always_zeros</td>\n",
       "      <td>validation</td>\n",
       "    </tr>\n",
       "  </tbody>\n",
       "</table>\n",
       "</div>"
      ],
      "text/plain": [
       "    precision    recall  f1_score  accuracy                model_name  \\\n",
       "12   0.796491  0.764310  0.780069  0.858720      random_forest_pruned   \n",
       "4    0.750000  0.737374  0.743633  0.833333              gdbt_default   \n",
       "10   0.749141  0.734007  0.741497  0.832230      decision_tree_pruned   \n",
       "2    0.747368  0.717172  0.731959  0.827815     random_forest_default   \n",
       "0    0.665672  0.750842  0.705696  0.794702     decision_tree_default   \n",
       "14   0.618421  0.791246  0.694239  0.771523  decision_tree_pruned_ccp   \n",
       "8    0.327815  1.000000  0.493766  0.327815               always_ones   \n",
       "9    0.000000  0.000000  0.000000  0.672185              always_zeros   \n",
       "\n",
       "         split  \n",
       "12  validation  \n",
       "4   validation  \n",
       "10  validation  \n",
       "2   validation  \n",
       "0   validation  \n",
       "14  validation  \n",
       "8   validation  \n",
       "9   validation  "
      ]
     },
     "execution_count": 20,
     "metadata": {},
     "output_type": "execute_result"
    }
   ],
   "source": [
    "dd[dd.split==\"validation\"].sort_values(by=\"f1_score\", ascending=False)"
   ]
  },
  {
   "cell_type": "code",
   "execution_count": 30,
   "id": "a96243f2-b2d5-4cff-838e-23eecf97b283",
   "metadata": {},
   "outputs": [],
   "source": [
    "def find_best_threshold(model, X, y, metric=\"recall\", thresholds=np.arange(0.0, 1.05, 0.05)):\n",
    "    best_threshold = 0.5\n",
    "    best_metric_value = 0\n",
    "    metric_values = []\n",
    "\n",
    "    for threshold in thresholds:\n",
    "        metrics = evaluate_model_with_threshold(model, X, y, threshold=threshold)\n",
    "        metric_value = metrics[metric]\n",
    "        metric_values.append((threshold, metric_value))\n",
    "\n",
    "        if metric_value > best_metric_value:\n",
    "            best_metric_value = metric_value\n",
    "            best_threshold = threshold\n",
    "\n",
    "    # Print the results and return the best threshold\n",
    "    print(f\"Best threshold for {metric}: {best_threshold} with score {best_metric_value}\")\n",
    "    return best_threshold, metric_values\n",
    "\n"
   ]
  },
  {
   "cell_type": "code",
   "execution_count": 31,
   "id": "778a12ff-e060-4df3-9803-4171f3318127",
   "metadata": {},
   "outputs": [
    {
     "name": "stdout",
     "output_type": "stream",
     "text": [
      "Best threshold for f1_score: 0.4 with score 0.750788643533123\n"
     ]
    }
   ],
   "source": [
    "best_threshold, metric_values = find_best_threshold(fine_tuned_models[\"decision_tree_pruned\"], X_val, y_val, metric=\"recall\")\n"
   ]
  },
  {
   "cell_type": "code",
   "execution_count": 32,
   "id": "500556d4-bf7c-4b62-a27b-308004a7aa9a",
   "metadata": {},
   "outputs": [
    {
     "name": "stdout",
     "output_type": "stream",
     "text": [
      "Best threshold for f1_score: 0.15000000000000002 with score 0.6942392909896603\n"
     ]
    }
   ],
   "source": [
    "best_threshold, metric_values = find_best_threshold(fine_tuned_models[\"decision_tree_pruned_ccp\"], X_val, y_val, metric=\"recall\")\n"
   ]
  },
  {
   "cell_type": "code",
   "execution_count": 34,
   "id": "d7272a52-d9a2-44c0-a4fb-856f6894ecba",
   "metadata": {},
   "outputs": [
    {
     "name": "stdout",
     "output_type": "stream",
     "text": [
      "Best threshold for f1_score: 0.4 with score 0.7853736089030207\n"
     ]
    }
   ],
   "source": [
    "best_threshold, metric_values = find_best_threshold(fine_tuned_models[\"random_forest_pruned\"], X_val, y_val, metric=\"recall\")\n"
   ]
  },
  {
   "cell_type": "code",
   "execution_count": 35,
   "id": "80b533f6-b83c-4fcc-85be-1b6f1d246e80",
   "metadata": {},
   "outputs": [
    {
     "name": "stdout",
     "output_type": "stream",
     "text": [
      "Best threshold for f1_score: 0.35000000000000003 with score 0.7554179566563467\n"
     ]
    }
   ],
   "source": [
    "best_threshold, metric_values = find_best_threshold(default_models[\"gdbt_default\"], X_val, y_val, metric=\"recall\")\n"
   ]
  },
  {
   "cell_type": "code",
   "execution_count": 36,
   "id": "10c62689-da16-4269-90a6-b1958be42c73",
   "metadata": {},
   "outputs": [
    {
     "name": "stdout",
     "output_type": "stream",
     "text": [
      "Best threshold for f1_score: 0.45 with score 0.7446457990115322\n"
     ]
    }
   ],
   "source": [
    "best_threshold, metric_values = find_best_threshold(default_models[\"random_forest_default\"], X_val, y_val, metric=\"recall\")\n"
   ]
  },
  {
   "cell_type": "code",
   "execution_count": 37,
   "id": "d01898a5-e539-4a66-b3c6-72876d992c1b",
   "metadata": {},
   "outputs": [
    {
     "name": "stdout",
     "output_type": "stream",
     "text": [
      "Best threshold for f1_score: 0.55 with score 0.7056962025316456\n"
     ]
    }
   ],
   "source": [
    "best_threshold, metric_values = find_best_threshold(default_models[\"decision_tree_default\"], X_val, y_val, metric=\"recall\")\n"
   ]
  },
  {
   "cell_type": "code",
   "execution_count": 46,
   "id": "8da2089a-172b-4a0b-9276-aa506b393b56",
   "metadata": {},
   "outputs": [],
   "source": [
    "def evaluate_model_with_threshold_params(model_name, model, X, y, training_split=\"default\", metric=\"recall\",\n",
    "                                        threshold=None):\n",
    "    if not threshold:\n",
    "        threshold, _ = find_best_threshold(model, X, y, metric=metric)\n",
    "    metrics = evaluate_model_with_threshold(model, X, y, threshold=threshold)\n",
    "    metrics[\"model_name\"] = model_name\n",
    "    metrics[\"split\"] = training_split\n",
    "    return metrics\n",
    "    "
   ]
  },
  {
   "cell_type": "code",
   "execution_count": 41,
   "id": "75360061-9283-4d7f-8ede-d48e6e9c5cd9",
   "metadata": {},
   "outputs": [
    {
     "name": "stdout",
     "output_type": "stream",
     "text": [
      "Best threshold for f1_score: 0.4 with score 0.750788643533123\n",
      "Best threshold for f1_score: 0.15000000000000002 with score 0.6942392909896603\n",
      "Best threshold for f1_score: 0.4 with score 0.7853736089030207\n",
      "Best threshold for f1_score: 0.35000000000000003 with score 0.7554179566563467\n"
     ]
    }
   ],
   "source": [
    "customized_threshold_results = [\n",
    "    evaluate_model_with_threshold_params(\"decision_tree_pruned\",\n",
    "                                         fine_tuned_models[\"decision_tree_pruned\"],\n",
    "                                        X_val, y_val),\n",
    "    evaluate_model_with_threshold_params(\"decision_tree_pruned_ccp\",\n",
    "                                         fine_tuned_models[\"decision_tree_pruned_ccp\"],\n",
    "                                        X_val, y_val),\n",
    "    evaluate_model_with_threshold_params(\"random_forest_pruned\",\n",
    "                                         fine_tuned_models[\"random_forest_pruned\"],\n",
    "                                        X_val, y_val),\n",
    "    evaluate_model_with_threshold_params(\"gdbt_default\",\n",
    "                                         default_models[\"gdbt_default\"],\n",
    "                                        X_val, y_val)]"
   ]
  },
  {
   "cell_type": "code",
   "execution_count": 43,
   "id": "31a18f3c-7f2b-4d85-9660-e71633657e80",
   "metadata": {},
   "outputs": [
    {
     "data": {
      "text/html": [
       "<div>\n",
       "<style scoped>\n",
       "    .dataframe tbody tr th:only-of-type {\n",
       "        vertical-align: middle;\n",
       "    }\n",
       "\n",
       "    .dataframe tbody tr th {\n",
       "        vertical-align: top;\n",
       "    }\n",
       "\n",
       "    .dataframe thead th {\n",
       "        text-align: right;\n",
       "    }\n",
       "</style>\n",
       "<table border=\"1\" class=\"dataframe\">\n",
       "  <thead>\n",
       "    <tr style=\"text-align: right;\">\n",
       "      <th></th>\n",
       "      <th>precision</th>\n",
       "      <th>recall</th>\n",
       "      <th>f1_score</th>\n",
       "      <th>accuracy</th>\n",
       "      <th>model_name</th>\n",
       "      <th>split</th>\n",
       "    </tr>\n",
       "  </thead>\n",
       "  <tbody>\n",
       "    <tr>\n",
       "      <th>2</th>\n",
       "      <td>0.743976</td>\n",
       "      <td>0.831650</td>\n",
       "      <td>0.785374</td>\n",
       "      <td>0.850993</td>\n",
       "      <td>random_forest_pruned</td>\n",
       "      <td>default</td>\n",
       "    </tr>\n",
       "    <tr>\n",
       "      <th>3</th>\n",
       "      <td>0.699140</td>\n",
       "      <td>0.821549</td>\n",
       "      <td>0.755418</td>\n",
       "      <td>0.825607</td>\n",
       "      <td>gdbt_default</td>\n",
       "      <td>default</td>\n",
       "    </tr>\n",
       "    <tr>\n",
       "      <th>0</th>\n",
       "      <td>0.706231</td>\n",
       "      <td>0.801347</td>\n",
       "      <td>0.750789</td>\n",
       "      <td>0.825607</td>\n",
       "      <td>decision_tree_pruned</td>\n",
       "      <td>default</td>\n",
       "    </tr>\n",
       "    <tr>\n",
       "      <th>1</th>\n",
       "      <td>0.618421</td>\n",
       "      <td>0.791246</td>\n",
       "      <td>0.694239</td>\n",
       "      <td>0.771523</td>\n",
       "      <td>decision_tree_pruned_ccp</td>\n",
       "      <td>default</td>\n",
       "    </tr>\n",
       "  </tbody>\n",
       "</table>\n",
       "</div>"
      ],
      "text/plain": [
       "   precision    recall  f1_score  accuracy                model_name    split\n",
       "2   0.743976  0.831650  0.785374  0.850993      random_forest_pruned  default\n",
       "3   0.699140  0.821549  0.755418  0.825607              gdbt_default  default\n",
       "0   0.706231  0.801347  0.750789  0.825607      decision_tree_pruned  default\n",
       "1   0.618421  0.791246  0.694239  0.771523  decision_tree_pruned_ccp  default"
      ]
     },
     "execution_count": 43,
     "metadata": {},
     "output_type": "execute_result"
    }
   ],
   "source": [
    "pd.DataFrame(customized_threshold_results).sort_values(by=\"recall\", ascending=False)"
   ]
  },
  {
   "cell_type": "code",
   "execution_count": 44,
   "id": "aaee484e-561b-4e30-b11a-0cdc18fa6b3a",
   "metadata": {},
   "outputs": [
    {
     "name": "stdout",
     "output_type": "stream",
     "text": [
      "Best threshold for f1_score: 0.4 with score 0.7225806451612903\n",
      "Best threshold for f1_score: 0.15000000000000002 with score 0.658321060382916\n",
      "Best threshold for f1_score: 0.4 with score 0.7516233766233766\n",
      "Best threshold for f1_score: 0.45 with score 0.7197346600331676\n"
     ]
    }
   ],
   "source": [
    "customized_threshold_results_test = [\n",
    "    evaluate_model_with_threshold_params(\"decision_tree_pruned\",\n",
    "                                         fine_tuned_models[\"decision_tree_pruned\"],\n",
    "                                        X_test, y_test),\n",
    "    evaluate_model_with_threshold_params(\"decision_tree_pruned_ccp\",\n",
    "                                         fine_tuned_models[\"decision_tree_pruned_ccp\"],\n",
    "                                        X_test, y_test),\n",
    "    evaluate_model_with_threshold_params(\"random_forest_pruned\",\n",
    "                                         fine_tuned_models[\"random_forest_pruned\"],\n",
    "                                        X_test, y_test),\n",
    "    evaluate_model_with_threshold_params(\"gdbt_default\",\n",
    "                                         default_models[\"gdbt_default\"],\n",
    "                                        X_test, y_test)]"
   ]
  },
  {
   "cell_type": "code",
   "execution_count": 45,
   "id": "26cda80b-d42e-4d02-9585-b9506871fad2",
   "metadata": {},
   "outputs": [
    {
     "data": {
      "text/html": [
       "<div>\n",
       "<style scoped>\n",
       "    .dataframe tbody tr th:only-of-type {\n",
       "        vertical-align: middle;\n",
       "    }\n",
       "\n",
       "    .dataframe tbody tr th {\n",
       "        vertical-align: top;\n",
       "    }\n",
       "\n",
       "    .dataframe thead th {\n",
       "        text-align: right;\n",
       "    }\n",
       "</style>\n",
       "<table border=\"1\" class=\"dataframe\">\n",
       "  <thead>\n",
       "    <tr style=\"text-align: right;\">\n",
       "      <th></th>\n",
       "      <th>precision</th>\n",
       "      <th>recall</th>\n",
       "      <th>f1_score</th>\n",
       "      <th>accuracy</th>\n",
       "      <th>model_name</th>\n",
       "      <th>split</th>\n",
       "    </tr>\n",
       "  </thead>\n",
       "  <tbody>\n",
       "    <tr>\n",
       "      <th>2</th>\n",
       "      <td>0.725705</td>\n",
       "      <td>0.779461</td>\n",
       "      <td>0.751623</td>\n",
       "      <td>0.831219</td>\n",
       "      <td>random_forest_pruned</td>\n",
       "      <td>default</td>\n",
       "    </tr>\n",
       "    <tr>\n",
       "      <th>0</th>\n",
       "      <td>0.693498</td>\n",
       "      <td>0.754209</td>\n",
       "      <td>0.722581</td>\n",
       "      <td>0.810259</td>\n",
       "      <td>decision_tree_pruned</td>\n",
       "      <td>default</td>\n",
       "    </tr>\n",
       "    <tr>\n",
       "      <th>3</th>\n",
       "      <td>0.709150</td>\n",
       "      <td>0.730640</td>\n",
       "      <td>0.719735</td>\n",
       "      <td>0.813569</td>\n",
       "      <td>gdbt_default</td>\n",
       "      <td>default</td>\n",
       "    </tr>\n",
       "    <tr>\n",
       "      <th>1</th>\n",
       "      <td>0.585079</td>\n",
       "      <td>0.752525</td>\n",
       "      <td>0.658321</td>\n",
       "      <td>0.744071</td>\n",
       "      <td>decision_tree_pruned_ccp</td>\n",
       "      <td>default</td>\n",
       "    </tr>\n",
       "  </tbody>\n",
       "</table>\n",
       "</div>"
      ],
      "text/plain": [
       "   precision    recall  f1_score  accuracy                model_name    split\n",
       "2   0.725705  0.779461  0.751623  0.831219      random_forest_pruned  default\n",
       "0   0.693498  0.754209  0.722581  0.810259      decision_tree_pruned  default\n",
       "3   0.709150  0.730640  0.719735  0.813569              gdbt_default  default\n",
       "1   0.585079  0.752525  0.658321  0.744071  decision_tree_pruned_ccp  default"
      ]
     },
     "execution_count": 45,
     "metadata": {},
     "output_type": "execute_result"
    }
   ],
   "source": [
    "pd.DataFrame(customized_threshold_results_test).sort_values(by=\"recall\", ascending=False)"
   ]
  },
  {
   "cell_type": "code",
   "execution_count": 47,
   "id": "307a09a1-dae7-4e16-b680-80831d4805de",
   "metadata": {},
   "outputs": [],
   "source": [
    "default_threshold_results_test = [\n",
    "    evaluate_model_with_threshold_params(\"decision_tree_pruned\",\n",
    "                                         fine_tuned_models[\"decision_tree_pruned\"],\n",
    "                                        X_test, y_test,\n",
    "                                        threshold=0.5),\n",
    "    evaluate_model_with_threshold_params(\"decision_tree_pruned_ccp\",\n",
    "                                         fine_tuned_models[\"decision_tree_pruned_ccp\"],\n",
    "                                        X_test, y_test,\n",
    "                                        threshold=0.5),\n",
    "    evaluate_model_with_threshold_params(\"random_forest_pruned\",\n",
    "                                         fine_tuned_models[\"random_forest_pruned\"],\n",
    "                                        X_test, y_test,\n",
    "                                        threshold=0.5),\n",
    "    evaluate_model_with_threshold_params(\"gdbt_default\",\n",
    "                                         default_models[\"gdbt_default\"],\n",
    "                                        X_test, y_test,\n",
    "                                        threshold=0.5)]"
   ]
  },
  {
   "cell_type": "code",
   "execution_count": 48,
   "id": "e3ba04c8-368e-48fc-982c-fdbccc72f17e",
   "metadata": {},
   "outputs": [
    {
     "data": {
      "text/html": [
       "<div>\n",
       "<style scoped>\n",
       "    .dataframe tbody tr th:only-of-type {\n",
       "        vertical-align: middle;\n",
       "    }\n",
       "\n",
       "    .dataframe tbody tr th {\n",
       "        vertical-align: top;\n",
       "    }\n",
       "\n",
       "    .dataframe thead th {\n",
       "        text-align: right;\n",
       "    }\n",
       "</style>\n",
       "<table border=\"1\" class=\"dataframe\">\n",
       "  <thead>\n",
       "    <tr style=\"text-align: right;\">\n",
       "      <th></th>\n",
       "      <th>precision</th>\n",
       "      <th>recall</th>\n",
       "      <th>f1_score</th>\n",
       "      <th>accuracy</th>\n",
       "      <th>model_name</th>\n",
       "      <th>split</th>\n",
       "    </tr>\n",
       "  </thead>\n",
       "  <tbody>\n",
       "    <tr>\n",
       "      <th>2</th>\n",
       "      <td>0.752182</td>\n",
       "      <td>0.725589</td>\n",
       "      <td>0.738646</td>\n",
       "      <td>0.831771</td>\n",
       "      <td>random_forest_pruned</td>\n",
       "      <td>default</td>\n",
       "    </tr>\n",
       "    <tr>\n",
       "      <th>0</th>\n",
       "      <td>0.699839</td>\n",
       "      <td>0.734007</td>\n",
       "      <td>0.716516</td>\n",
       "      <td>0.809708</td>\n",
       "      <td>decision_tree_pruned</td>\n",
       "      <td>default</td>\n",
       "    </tr>\n",
       "    <tr>\n",
       "      <th>3</th>\n",
       "      <td>0.728242</td>\n",
       "      <td>0.690236</td>\n",
       "      <td>0.708729</td>\n",
       "      <td>0.814120</td>\n",
       "      <td>gdbt_default</td>\n",
       "      <td>default</td>\n",
       "    </tr>\n",
       "    <tr>\n",
       "      <th>1</th>\n",
       "      <td>0.585079</td>\n",
       "      <td>0.752525</td>\n",
       "      <td>0.658321</td>\n",
       "      <td>0.744071</td>\n",
       "      <td>decision_tree_pruned_ccp</td>\n",
       "      <td>default</td>\n",
       "    </tr>\n",
       "  </tbody>\n",
       "</table>\n",
       "</div>"
      ],
      "text/plain": [
       "   precision    recall  f1_score  accuracy                model_name    split\n",
       "2   0.752182  0.725589  0.738646  0.831771      random_forest_pruned  default\n",
       "0   0.699839  0.734007  0.716516  0.809708      decision_tree_pruned  default\n",
       "3   0.728242  0.690236  0.708729  0.814120              gdbt_default  default\n",
       "1   0.585079  0.752525  0.658321  0.744071  decision_tree_pruned_ccp  default"
      ]
     },
     "execution_count": 48,
     "metadata": {},
     "output_type": "execute_result"
    }
   ],
   "source": [
    "pd.DataFrame(default_threshold_results_test).sort_values(by=\"recall\", ascending=False)"
   ]
  },
  {
   "cell_type": "code",
   "execution_count": 50,
   "id": "4ec4751a-eace-4399-9e23-1b558af97469",
   "metadata": {},
   "outputs": [
    {
     "name": "stdout",
     "output_type": "stream",
     "text": [
      "is_repeated_guest 0.004399626288572245\n",
      "has_car 0.007026432072495347\n",
      "has_special_requests 0.0895267960290642\n",
      "lead_time 0.5075511683898182\n",
      "has_children 0.010362869934147622\n",
      "normalized_market_segment_value 0.09078046859830143\n",
      "year_quarter 0.032415483745161865\n",
      "arrival_month 0.10364181442195698\n",
      "total_nights 0.1035063131483214\n",
      "total_guests 0.05078902737216073\n"
     ]
    }
   ],
   "source": [
    "for w, f in zip(fine_tuned_models[\"random_forest_pruned\"].feature_importances_, features_names):\n",
    "    print(f, w)"
   ]
  },
  {
   "cell_type": "code",
   "execution_count": 55,
   "id": "dd4d749c-3cb1-4dcf-a49f-bf1e816ae785",
   "metadata": {},
   "outputs": [
    {
     "data": {
      "text/plain": [
       "[(np.float64(0.5075511683898182), 'lead_time'),\n",
       " (np.float64(0.10364181442195698), 'arrival_month'),\n",
       " (np.float64(0.1035063131483214), 'total_nights'),\n",
       " (np.float64(0.09078046859830143), 'normalized_market_segment_value'),\n",
       " (np.float64(0.0895267960290642), 'has_special_requests'),\n",
       " (np.float64(0.05078902737216073), 'total_guests'),\n",
       " (np.float64(0.032415483745161865), 'year_quarter'),\n",
       " (np.float64(0.010362869934147622), 'has_children'),\n",
       " (np.float64(0.007026432072495347), 'has_car'),\n",
       " (np.float64(0.004399626288572245), 'is_repeated_guest')]"
      ]
     },
     "execution_count": 55,
     "metadata": {},
     "output_type": "execute_result"
    }
   ],
   "source": [
    "sorted(zip(fine_tuned_models[\"random_forest_pruned\"].feature_importances_, features_names), reverse=True)"
   ]
  },
  {
   "cell_type": "code",
   "execution_count": 56,
   "id": "b4cffd86-2d2f-477b-b0af-7162e54a5537",
   "metadata": {},
   "outputs": [
    {
     "data": {
      "text/plain": [
       "[(np.float64(0.5044095631853523), 'lead_time'),\n",
       " (np.float64(0.16824102928149381), 'has_special_requests'),\n",
       " (np.float64(0.08204322702976986), 'normalized_market_segment_value'),\n",
       " (np.float64(0.08123451420459604), 'arrival_month'),\n",
       " (np.float64(0.06760344965773499), 'total_nights'),\n",
       " (np.float64(0.046719066914971394), 'total_guests'),\n",
       " (np.float64(0.02619086786355091), 'year_quarter'),\n",
       " (np.float64(0.013305162298911525), 'has_children'),\n",
       " (np.float64(0.008199353051346779), 'has_car'),\n",
       " (np.float64(0.0020537665122723524), 'is_repeated_guest')]"
      ]
     },
     "execution_count": 56,
     "metadata": {},
     "output_type": "execute_result"
    }
   ],
   "source": [
    "sorted(zip(fine_tuned_models[\"decision_tree_pruned\"].feature_importances_, features_names), reverse=True)"
   ]
  },
  {
   "cell_type": "code",
   "execution_count": 13,
   "id": "a87c0ade-8bbc-4f38-825c-15ac0092023d",
   "metadata": {},
   "outputs": [],
   "source": [
    "# from sklearn.model_selection import GridSearchCV\n",
    "\n",
    "# param_grid = {\n",
    "#     \"max_depth\": [5, 10, 15, 20, 25,None],\n",
    "#     \"min_samples_split\": [2, 5, 10, 30],\n",
    "#     \"min_samples_leaf\": [1, 5, 10, 15],\n",
    "#     \"max_features\": [\"sqrt\", \"log2\"],\n",
    "#     \"ccp_alpha\": [0.01, 0.001, 0.015, 0]\n",
    "# }\n",
    "\n",
    "# dt_clf = DecisionTreeClassifier(random_state=RANDOM_SEED)\n",
    "\n",
    "# grid_search = GridSearchCV(dt_clf, param_grid, cv=5, scoring='recall', n_jobs=-1, verbose=1)\n",
    "# grid_search.fit(X_train, y_train)\n",
    "\n",
    "# best_dt_model = grid_search.best_estimator_\n",
    "# best_params = grid_search.best_params_\n",
    "# print(best_params, grid_search.best_score_)"
   ]
  },
  {
   "cell_type": "code",
   "execution_count": 14,
   "id": "2156e472-affb-485b-af50-686eccb8e1f9",
   "metadata": {},
   "outputs": [],
   "source": [
    "decision_tree_params = {'ccp_alpha': 0,\n",
    " 'max_depth': 15,\n",
    " 'max_features': 'sqrt',\n",
    " 'min_samples_leaf': 1,\n",
    " 'min_samples_split': 5}"
   ]
  },
  {
   "cell_type": "code",
   "execution_count": 15,
   "id": "bdae27ac-9de3-4132-b6d0-83f228d4b264",
   "metadata": {},
   "outputs": [],
   "source": [
    "# from sklearn.model_selection import GridSearchCV\n",
    "\n",
    "# param_grid = {\n",
    "#     \"n_estimators\": [10, 50, 100, 200, 500],\n",
    "#     \"max_depth\": [5, 10, 15, 20, 25, None],\n",
    "#     \"min_samples_split\": [2, 5, 10, 30],\n",
    "#     \"min_samples_leaf\": [1, 5, 10, 15],\n",
    "#     \"max_features\": [\"sqrt\", \"log2\"],\n",
    "#     \"bootstrap\": [True, False],\n",
    "# }\n",
    "\n",
    "# rf_clf = RandomForestClassifier(random_state=RANDOM_SEED)\n",
    "\n",
    "# grid_search = GridSearchCV(rf_clf, param_grid, cv=5, scoring='recall', n_jobs=-1, verbose=1)\n",
    "# grid_search.fit(X_train, y_train)\n",
    "\n",
    "# best_rf_model = grid_search.best_estimator_\n",
    "# best_params = grid_search.best_params_\n",
    "# print(\"Best Parameters:\", best_params)\n",
    "# print(\"Best Score:\", grid_search.best_score_)"
   ]
  },
  {
   "cell_type": "code",
   "execution_count": 16,
   "id": "af9ac246-85bb-4464-9990-49648e3956c6",
   "metadata": {},
   "outputs": [],
   "source": [
    "random_forest_params = {'bootstrap': True, 'max_depth': 15, 'max_features': 'sqrt', 'min_samples_leaf': 1, 'min_samples_split': 2, 'n_estimators': 500}"
   ]
  },
  {
   "cell_type": "code",
   "execution_count": null,
   "id": "8d7ad786-885f-40a4-8485-498b51782ff4",
   "metadata": {},
   "outputs": [],
   "source": []
  }
 ],
 "metadata": {
  "kernelspec": {
   "display_name": "Python 3 (ipykernel)",
   "language": "python",
   "name": "python3"
  },
  "language_info": {
   "codemirror_mode": {
    "name": "ipython",
    "version": 3
   },
   "file_extension": ".py",
   "mimetype": "text/x-python",
   "name": "python",
   "nbconvert_exporter": "python",
   "pygments_lexer": "ipython3",
   "version": "3.11.10"
  }
 },
 "nbformat": 4,
 "nbformat_minor": 5
}
